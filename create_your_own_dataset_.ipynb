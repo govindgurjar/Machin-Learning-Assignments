{
  "nbformat": 4,
  "nbformat_minor": 0,
  "metadata": {
    "colab": {
      "name": "create your own dataset .ipynb",
      "provenance": [],
      "authorship_tag": "ABX9TyN3b720xiZPTOyY3M3kfbu4",
      "include_colab_link": true
    },
    "kernelspec": {
      "name": "python3",
      "display_name": "Python 3"
    },
    "language_info": {
      "name": "python"
    }
  },
  "cells": [
    {
      "cell_type": "markdown",
      "metadata": {
        "id": "view-in-github",
        "colab_type": "text"
      },
      "source": [
        "<a href=\"https://colab.research.google.com/github/Shyam83-oss/Machine-learning-/blob/os/create_your_own_dataset_.ipynb\" target=\"_parent\"><img src=\"https://colab.research.google.com/assets/colab-badge.svg\" alt=\"Open In Colab\"/></a>"
      ]
    },
    {
      "cell_type": "markdown",
      "source": [
        "Shyam Mandora"
      ],
      "metadata": {
        "id": "OzHyf3kYz5mP"
      }
    },
    {
      "cell_type": "code",
      "source": [
        "pip install opencv-python=3.4.2.17"
      ],
      "metadata": {
        "colab": {
          "base_uri": "https://localhost:8080/"
        },
        "id": "IUHynSZcz8dO",
        "outputId": "f6ff1942-eab4-44af-f326-83521f3fc6b9"
      },
      "execution_count": 2,
      "outputs": [
        {
          "output_type": "stream",
          "name": "stdout",
          "text": [
            "\u001b[31mERROR: Invalid requirement: 'opencv-python=3.4.2.17'\n",
            "Hint: = is not a valid operator. Did you mean == ?\u001b[0m\n"
          ]
        }
      ]
    },
    {
      "cell_type": "code",
      "source": [
        "import cv2 as cv\n",
        "import os"
      ],
      "metadata": {
        "id": "ZHoiEw7Wz-lL"
      },
      "execution_count": 3,
      "outputs": []
    },
    {
      "cell_type": "code",
      "source": [
        "#argument 0 is given to use the default camera of the laptop\n",
        "camera = cv.VideoCapture(0)\n",
        "#Now check if the camera object is created successfully\n",
        "if not camera.isOpened():\n",
        "    print(\"The Camera is not Opened....Exiting\")\n",
        "    exit()"
      ],
      "metadata": {
        "colab": {
          "base_uri": "https://localhost:8080/"
        },
        "id": "aK4Wd6ba0FuX",
        "outputId": "8614c539-e051-47c4-90b4-e3192b8d0015"
      },
      "execution_count": 4,
      "outputs": [
        {
          "output_type": "stream",
          "name": "stdout",
          "text": [
            "The Camera is not Opened....Exiting\n"
          ]
        }
      ]
    },
    {
      "cell_type": "code",
      "source": [
        "#creating a list of lables \"You could add as many you want\"\n",
        "Labels = [\"Background\",\"Stone\",\"Paper\",\"Scissors\"]\n",
        "#Now create folders for each label to store images\n",
        "for label in Labels:\n",
        "    if not os.path.exists(label):\n",
        "        os.mkdir(label)"
      ],
      "metadata": {
        "id": "R513Tk9R0VLZ"
      },
      "execution_count": 5,
      "outputs": []
    },
    {
      "cell_type": "code",
      "source": [
        "for folder in Labels:\n",
        "    #using count variable to name the images in the dataset.\n",
        "    count = 0\n",
        "    #Taking input to start the capturing\n",
        "    print(\"Press 's' to start data collection for\"+folder)\n",
        "    userinput = input()\n",
        "    if userinput != 's':\n",
        "        print(\"Wrong Input..........\")\n",
        "        exit()\n",
        "    #clicking 200 images per label, you could change as you want.    \n",
        "    while count<200:\n",
        "        #read returns two values one is the exit code and other is the frame\n",
        "        status, frame = camera.read()\n",
        "        #check if we get the frame or not\n",
        "        if not status:\n",
        "            print(\"Frame is not been captured..Exiting...\")\n",
        "            break\n",
        "        #convert the image into gray format for fast caculation\n",
        "        gray = cv.cvtColor(frame, cv.COLOR_BGR2GRAY)\n",
        "        #display window with gray image\n",
        "        cv.imshow(\"Video Window\",gray)\n",
        "        #resizing the image to store it\n",
        "        gray = cv.resize(gray, (28,28))\n",
        "        #Store the image to specific label folder\n",
        "        cv.imwrite('C:/Users/HP/Documents/AnacondaML/'+folder+'/img'+str(count)+'.png',gray)\n",
        "        count=count+1\n",
        "        #to quite the display window press 'q'\n",
        "        if cv.waitKey(1) == ord('q'):\n",
        "            break\n",
        "# When everything done, release the capture\n",
        "camera.release()\n",
        "cv.destroyAllWindows()"
      ],
      "metadata": {
        "colab": {
          "base_uri": "https://localhost:8080/",
          "height": 234
        },
        "id": "TQ1obz6f0eUb",
        "outputId": "3030a7a9-7ba4-4674-e143-1bb08d43b762"
      },
      "execution_count": 8,
      "outputs": [
        {
          "output_type": "error",
          "ename": "NameError",
          "evalue": "ignored",
          "traceback": [
            "\u001b[0;31m---------------------------------------------------------------------------\u001b[0m",
            "\u001b[0;31mNameError\u001b[0m                                 Traceback (most recent call last)",
            "\u001b[0;32m<ipython-input-8-6060fce216ca>\u001b[0m in \u001b[0;36m<module>\u001b[0;34m()\u001b[0m\n\u001b[0;32m----> 1\u001b[0;31m \u001b[0;32mfor\u001b[0m \u001b[0mfolder\u001b[0m \u001b[0;32min\u001b[0m \u001b[0mLabels\u001b[0m\u001b[0;34m:\u001b[0m\u001b[0;34m\u001b[0m\u001b[0;34m\u001b[0m\u001b[0m\n\u001b[0m\u001b[1;32m      2\u001b[0m     \u001b[0;31m#using count variable to name the images in the dataset.\u001b[0m\u001b[0;34m\u001b[0m\u001b[0;34m\u001b[0m\u001b[0;34m\u001b[0m\u001b[0m\n\u001b[1;32m      3\u001b[0m     \u001b[0mcount\u001b[0m \u001b[0;34m=\u001b[0m \u001b[0;36m0\u001b[0m\u001b[0;34m\u001b[0m\u001b[0;34m\u001b[0m\u001b[0m\n\u001b[1;32m      4\u001b[0m     \u001b[0;31m#Taking input to start the capturing\u001b[0m\u001b[0;34m\u001b[0m\u001b[0;34m\u001b[0m\u001b[0;34m\u001b[0m\u001b[0m\n\u001b[1;32m      5\u001b[0m     \u001b[0mprint\u001b[0m\u001b[0;34m(\u001b[0m\u001b[0;34m\"Press 's' to start data collection for\"\u001b[0m\u001b[0;34m+\u001b[0m\u001b[0mfolder\u001b[0m\u001b[0;34m)\u001b[0m\u001b[0;34m\u001b[0m\u001b[0;34m\u001b[0m\u001b[0m\n",
            "\u001b[0;31mNameError\u001b[0m: name 'Labels' is not defined"
          ]
        }
      ]
    }
  ]
}
